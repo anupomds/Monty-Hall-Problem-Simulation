{
  "nbformat": 4,
  "nbformat_minor": 0,
  "metadata": {
    "colab": {
      "name": "The Monty Hall Problem Simulation.ipynb",
      "provenance": []
    },
    "kernelspec": {
      "name": "python3",
      "display_name": "Python 3"
    },
    "language_info": {
      "name": "python"
    }
  },
  "cells": [
    {
      "cell_type": "markdown",
      "metadata": {
        "id": "kFj4ETtAzgza"
      },
      "source": [
        "<h1> The Monty Hall Problem Simulation </h1> "
      ]
    },
    {
      "cell_type": "markdown",
      "metadata": {
        "id": "AcL2bf7hnPHp"
      },
      "source": [
        "<h3> With Three Doors: </h3>"
      ]
    },
    {
      "cell_type": "code",
      "metadata": {
        "id": "FBpNiMzPzJg1",
        "colab": {
          "base_uri": "https://localhost:8080/"
        },
        "outputId": "d8e6dfbd-68bb-441a-806e-81aabd5eb36d"
      },
      "source": [
        "import numpy as np\n",
        "loss_count= 0\n",
        "win_count= 0\n",
        "shots= int(input(\"Please enter the number of shots you want---  \"))\n",
        "change= input('Do you want to switch? Enter \"True\" or \"False\" --- ').upper()\n",
        "# initial_choice= int(input(\" Which door do you want to select? Enter '1', '2', or '3'---  \"))\n",
        "initial_choice= np.random.randint(1,4)\n",
        "\n",
        "for i in range(shots):\n",
        "  prize_num= np.random.randint(1,4) \n",
        "  # your_choice= np.random.randint(1,4)\n",
        "  your_choice= initial_choice\n",
        "  if change == \"TRUE\":\n",
        "    if prize_num == your_choice: \n",
        "      # print('Sorry! You lose. Better luck next time. ')\n",
        "      loss_count+=1\n",
        "    else: \n",
        "      # print('Congratulations. You got it. ')\n",
        "      win_count+=1\n",
        "\n",
        "  elif change == \"FALSE\": \n",
        "    if prize_num == your_choice: \n",
        "      # print('Congratulations. You got it. ')\n",
        "      win_count+=1\n",
        "    else: \n",
        "      # print('Sorry! You lose. Better luck next time. ')\n",
        "      loss_count+=1\n",
        "\n",
        "print('You have won ', win_count, ' times' )\n",
        "print('You have lost ', loss_count, ' times')\n",
        "print('Your winning percentage is ', str((win_count/shots)*100), ' %')\n",
        "print('Your losing percentage is ', str((loss_count/shots)*100), ' %')"
      ],
      "execution_count": null,
      "outputs": [
        {
          "output_type": "stream",
          "name": "stdout",
          "text": [
            "Please enter the number of shots you want---  700\n",
            "Do you want to switch? Enter \"True\" or \"False\" --- true\n",
            "You have won  475  times\n",
            "You have lost  225  times\n",
            "Your winning percentage is  67.85714285714286  %\n",
            "Your losing percentage is  32.142857142857146  %\n"
          ]
        }
      ]
    },
    {
      "cell_type": "markdown",
      "metadata": {
        "id": "n22hSvf5njKw"
      },
      "source": [
        "<h3> With Ten Doors: </h3>"
      ]
    },
    {
      "cell_type": "code",
      "metadata": {
        "id": "QBjCd2w14rxN",
        "colab": {
          "base_uri": "https://localhost:8080/"
        },
        "outputId": "0dae3219-31f0-4563-943a-22d73be039ca"
      },
      "source": [
        "import numpy as np\n",
        "loss_count= 0\n",
        "win_count= 0\n",
        "shots= int(input(\"Please enter the number of shots you want---  \"))\n",
        "change= input('Do you want to switch? Enter \"True\" or \"False\" --- ').upper()\n",
        "initial_choice= int(input(\" Which door do you want to select from '1' to '10'? ---  \"))\n",
        "\n",
        "for i in range(shots):\n",
        "  prize_num= np.random.randint(1,11) \n",
        "  # your_choice= np.random.randint(1,11)\n",
        "  your_choice= initial_choice\n",
        "  if change == \"TRUE\":\n",
        "    if prize_num == your_choice: \n",
        "      # print('Sorry! You lose. Better luck next time. ')\n",
        "      loss_count+=1\n",
        "    else: \n",
        "      # print('Congratulations. You got it. ')\n",
        "      win_count+=1\n",
        "\n",
        "  elif change == \"FALSE\": \n",
        "    if prize_num == your_choice: \n",
        "      # print('Congratulations. You got it. ')\n",
        "      win_count+=1\n",
        "    else: \n",
        "      # print('Sorry! You lose. Better luck next time. ')\n",
        "      loss_count+=1\n",
        "\n",
        "print('You have won ', win_count, ' times' )\n",
        "print('You have lost ', loss_count, ' times')\n",
        "print('Your winning percentage is ', str((win_count/shots)*100), ' %')\n",
        "print('Your losing percentage is ', str((loss_count/shots)*100), ' %')"
      ],
      "execution_count": null,
      "outputs": [
        {
          "output_type": "stream",
          "text": [
            "Please enter the number of shots you want---  345\n",
            "Do you want to switch? Enter \"True\" or \"False\" --- true\n",
            " Which door do you want to select? Enter '1', '2', or '3'---  4\n",
            "You have won  309  times\n",
            "You have lost  36  times\n",
            "Your winning percentage is  89.56521739130436  %\n",
            "Your losing percentage is  10.434782608695652  %\n"
          ],
          "name": "stdout"
        }
      ]
    },
    {
      "cell_type": "code",
      "metadata": {
        "id": "_rcG40G-4r-a"
      },
      "source": [
        ""
      ],
      "execution_count": null,
      "outputs": []
    },
    {
      "cell_type": "code",
      "metadata": {
        "id": "LeljlmfM4sKl"
      },
      "source": [
        ""
      ],
      "execution_count": null,
      "outputs": []
    },
    {
      "cell_type": "code",
      "metadata": {
        "colab": {
          "base_uri": "https://localhost:8080/"
        },
        "id": "Yv9V1iHM1J6Y",
        "outputId": "5d61cab9-2603-4ed1-98e9-bde7cea9f87d"
      },
      "source": [
        "import numpy as np\n",
        "loss_count= 0\n",
        "win_count= 0\n",
        "# change= input('Do you want to switch')\n",
        "shots= int(input(\"Please enter the number of shots you want-  \"))\n",
        "for i in range(shots):\n",
        "  prize_num= np.random.randint(5) \n",
        "  your_choice= 2 #np.random.randint(5)\n",
        "  if prize_num != your_choice: \n",
        "    #print('Congratulations. You got it. ')\n",
        "    win_count+=1\n",
        "  else: \n",
        "    #print('You got a goat ')\n",
        "    loss_count+=1\n",
        "print('You have won ', win_count, ' times' )\n",
        "print('You have lost ', loss_count, ' times' )\n",
        "print('Your winning percentage is ', str((win_count/shots)*100), ' %')\n",
        "print('Your losing percentage is ', str((loss_count/shots)*100), '%')"
      ],
      "execution_count": null,
      "outputs": [
        {
          "output_type": "stream",
          "name": "stdout",
          "text": [
            "Please enter the number of shots you want-  80\n",
            "You have won  60  times\n",
            "You have lost  20  times\n",
            "Your winning percentage is  75.0  %\n",
            "Your losing percentage is  25.0 %\n"
          ]
        }
      ]
    },
    {
      "cell_type": "code",
      "metadata": {
        "id": "kzJ66yPvL_Gh"
      },
      "source": [
        "1"
      ],
      "execution_count": null,
      "outputs": []
    }
  ]
}